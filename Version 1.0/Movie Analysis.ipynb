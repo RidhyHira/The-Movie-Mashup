{
 "cells": [
  {
   "cell_type": "code",
   "execution_count": 2,
   "id": "308cb547",
   "metadata": {},
   "outputs": [],
   "source": [
    "import numpy as np\n",
    "import pandas as pd\n",
    "import matplotlib.pyplot as plt\n",
    "import seaborn as sns\n",
    "import warnings\n",
    "warnings.filterwarnings('ignore')\n",
    "from IPython.display import display\n",
    "from ast import literal_eval"
   ]
  },
  {
   "cell_type": "code",
   "execution_count": 3,
   "id": "450b574c",
   "metadata": {},
   "outputs": [],
   "source": [
    "pd.options.display.max_columns = None\n",
    "pd.options.display.max_rows = None\n",
    "pd.set_option('display.float_format', '{:,.2f}'.format)"
   ]
  },
  {
   "cell_type": "code",
   "execution_count": 4,
   "id": "6aa61587",
   "metadata": {},
   "outputs": [],
   "source": [
    "df_movies = pd.read_csv('movie_data.csv',engine='python')\n",
    "df_ratings = pd.read_csv('ratings_export.csv', engine='python')"
   ]
  },
  {
   "cell_type": "code",
   "execution_count": 5,
   "id": "0dd1bb0b",
   "metadata": {},
   "outputs": [
    {
     "data": {
      "text/plain": [
       "(285963, 19)"
      ]
     },
     "metadata": {},
     "output_type": "display_data"
    },
    {
     "data": {
      "text/plain": [
       "(11078167, 4)"
      ]
     },
     "metadata": {},
     "output_type": "display_data"
    }
   ],
   "source": [
    "display(df_movies.shape)\n",
    "display(df_ratings.shape)"
   ]
  },
  {
   "cell_type": "code",
   "execution_count": 6,
   "id": "9ae8ee10",
   "metadata": {},
   "outputs": [],
   "source": [
    "# df_movies.info()\n",
    "\n",
    "need = ['genres','movie_id','movie_title','original_language','year_released','tmdb_link']"
   ]
  },
  {
   "cell_type": "code",
   "execution_count": 7,
   "id": "b869f62d",
   "metadata": {},
   "outputs": [],
   "source": [
    "df_movies = df_movies.dropna(subset=['movie_title'])\n",
    "df_movies = df_movies.dropna(subset=['movie_id'])\n",
    "df_movies = df_movies.dropna(subset=['genres'])\n",
    "df_movies = df_movies.loc[df_movies['genres'] != '[]']\n",
    "df_movies = df_movies.loc[:,need]"
   ]
  },
  {
   "cell_type": "code",
   "execution_count": 8,
   "id": "b89dd8a3",
   "metadata": {},
   "outputs": [
    {
     "data": {
      "text/html": [
       "<div>\n",
       "<style scoped>\n",
       "    .dataframe tbody tr th:only-of-type {\n",
       "        vertical-align: middle;\n",
       "    }\n",
       "\n",
       "    .dataframe tbody tr th {\n",
       "        vertical-align: top;\n",
       "    }\n",
       "\n",
       "    .dataframe thead th {\n",
       "        text-align: right;\n",
       "    }\n",
       "</style>\n",
       "<table border=\"1\" class=\"dataframe\">\n",
       "  <thead>\n",
       "    <tr style=\"text-align: right;\">\n",
       "      <th></th>\n",
       "      <th>genres</th>\n",
       "      <th>movie_id</th>\n",
       "      <th>movie_title</th>\n",
       "      <th>original_language</th>\n",
       "      <th>year_released</th>\n",
       "      <th>tmdb_link</th>\n",
       "    </tr>\n",
       "  </thead>\n",
       "  <tbody>\n",
       "    <tr>\n",
       "      <th>46612</th>\n",
       "      <td>[\"Family\",\"Science Fiction\",\"Comedy\"]</td>\n",
       "      <td>the-friend-1985</td>\n",
       "      <td>The Friend</td>\n",
       "      <td>or</td>\n",
       "      <td>1,985.00</td>\n",
       "      <td>https://www.themoviedb.org/movie/579691/</td>\n",
       "    </tr>\n",
       "    <tr>\n",
       "      <th>157062</th>\n",
       "      <td>[\"Drama\"]</td>\n",
       "      <td>shesha-drushti</td>\n",
       "      <td>Shesha Drushti</td>\n",
       "      <td>or</td>\n",
       "      <td>1,997.00</td>\n",
       "      <td>https://www.themoviedb.org/movie/465637/</td>\n",
       "    </tr>\n",
       "    <tr>\n",
       "      <th>243030</th>\n",
       "      <td>[\"Drama\"]</td>\n",
       "      <td>maya-miriga</td>\n",
       "      <td>Maya Miriga</td>\n",
       "      <td>or</td>\n",
       "      <td>1,984.00</td>\n",
       "      <td>https://www.themoviedb.org/movie/392292/</td>\n",
       "    </tr>\n",
       "    <tr>\n",
       "      <th>256593</th>\n",
       "      <td>[\"Drama\"]</td>\n",
       "      <td>yesterdays-past</td>\n",
       "      <td>Yesterday's Past</td>\n",
       "      <td>or</td>\n",
       "      <td>2,020.00</td>\n",
       "      <td>https://www.themoviedb.org/movie/767661/</td>\n",
       "    </tr>\n",
       "  </tbody>\n",
       "</table>\n",
       "</div>"
      ],
      "text/plain": [
       "                                       genres         movie_id  \\\n",
       "46612   [\"Family\",\"Science Fiction\",\"Comedy\"]  the-friend-1985   \n",
       "157062                              [\"Drama\"]   shesha-drushti   \n",
       "243030                              [\"Drama\"]      maya-miriga   \n",
       "256593                              [\"Drama\"]  yesterdays-past   \n",
       "\n",
       "             movie_title original_language  year_released  \\\n",
       "46612         The Friend                or       1,985.00   \n",
       "157062    Shesha Drushti                or       1,997.00   \n",
       "243030       Maya Miriga                or       1,984.00   \n",
       "256593  Yesterday's Past                or       2,020.00   \n",
       "\n",
       "                                       tmdb_link  \n",
       "46612   https://www.themoviedb.org/movie/579691/  \n",
       "157062  https://www.themoviedb.org/movie/465637/  \n",
       "243030  https://www.themoviedb.org/movie/392292/  \n",
       "256593  https://www.themoviedb.org/movie/767661/  "
      ]
     },
     "execution_count": 8,
     "metadata": {},
     "output_type": "execute_result"
    }
   ],
   "source": [
    "df_movies.loc[df_movies['original_language'] == 'or']"
   ]
  },
  {
   "cell_type": "code",
   "execution_count": 9,
   "id": "f599a384",
   "metadata": {},
   "outputs": [],
   "source": [
    "df_ratings = df_ratings.dropna(subset = ['movie_id'])\n",
    "# df_ratings.isna().sum()"
   ]
  },
  {
   "cell_type": "code",
   "execution_count": 10,
   "id": "8d21da74",
   "metadata": {},
   "outputs": [],
   "source": [
    "# plt.boxplot(df_ratings['rating_val'])\n",
    "# plt.show()\n",
    "avg_rating = df_ratings.groupby('movie_id')['rating_val'].median().to_frame().reset_index()\n",
    "count_users = df_ratings.groupby('movie_id')['user_id'].count().to_frame().reset_index()"
   ]
  },
  {
   "cell_type": "code",
   "execution_count": 11,
   "id": "6f6d8826",
   "metadata": {},
   "outputs": [
    {
     "data": {
      "text/html": [
       "<div>\n",
       "<style scoped>\n",
       "    .dataframe tbody tr th:only-of-type {\n",
       "        vertical-align: middle;\n",
       "    }\n",
       "\n",
       "    .dataframe tbody tr th {\n",
       "        vertical-align: top;\n",
       "    }\n",
       "\n",
       "    .dataframe thead th {\n",
       "        text-align: right;\n",
       "    }\n",
       "</style>\n",
       "<table border=\"1\" class=\"dataframe\">\n",
       "  <thead>\n",
       "    <tr style=\"text-align: right;\">\n",
       "      <th></th>\n",
       "      <th>movie_id</th>\n",
       "      <th>rating_val</th>\n",
       "      <th>user_id</th>\n",
       "    </tr>\n",
       "  </thead>\n",
       "  <tbody>\n",
       "    <tr>\n",
       "      <th>0</th>\n",
       "      <td>0-uhr-15-zimmer-9</td>\n",
       "      <td>5.00</td>\n",
       "      <td>2</td>\n",
       "    </tr>\n",
       "    <tr>\n",
       "      <th>1</th>\n",
       "      <td>00-00</td>\n",
       "      <td>1.00</td>\n",
       "      <td>3</td>\n",
       "    </tr>\n",
       "    <tr>\n",
       "      <th>2</th>\n",
       "      <td>00-08</td>\n",
       "      <td>6.00</td>\n",
       "      <td>19</td>\n",
       "    </tr>\n",
       "    <tr>\n",
       "      <th>3</th>\n",
       "      <td>00-schneider-im-wendekreis-der-eidechse</td>\n",
       "      <td>7.00</td>\n",
       "      <td>15</td>\n",
       "    </tr>\n",
       "    <tr>\n",
       "      <th>4</th>\n",
       "      <td>00-schneider-jagd-auf-nihil-baxter</td>\n",
       "      <td>6.00</td>\n",
       "      <td>25</td>\n",
       "    </tr>\n",
       "  </tbody>\n",
       "</table>\n",
       "</div>"
      ],
      "text/plain": [
       "                                  movie_id  rating_val  user_id\n",
       "0                        0-uhr-15-zimmer-9        5.00        2\n",
       "1                                    00-00        1.00        3\n",
       "2                                    00-08        6.00       19\n",
       "3  00-schneider-im-wendekreis-der-eidechse        7.00       15\n",
       "4       00-schneider-jagd-auf-nihil-baxter        6.00       25"
      ]
     },
     "metadata": {},
     "output_type": "display_data"
    }
   ],
   "source": [
    "joint_table = pd.merge(left=avg_rating,right=count_users,on='movie_id',how='inner')\n",
    "display(joint_table.head())"
   ]
  },
  {
   "cell_type": "code",
   "execution_count": 12,
   "id": "aa9792b6",
   "metadata": {},
   "outputs": [],
   "source": [
    "joint_table['popularity_index'] = joint_table['rating_val']*joint_table['user_id']\n",
    "joint_table.sort_values(by='popularity_index',ascending=False,inplace=True)\n"
   ]
  },
  {
   "cell_type": "code",
   "execution_count": 13,
   "id": "a6214bf8",
   "metadata": {},
   "outputs": [],
   "source": [
    "joint_table.drop(labels=['rating_val','user_id'],axis=1,inplace=True)\n",
    "# joint_table.head()"
   ]
  },
  {
   "cell_type": "code",
   "execution_count": 14,
   "id": "0e7aa794",
   "metadata": {},
   "outputs": [],
   "source": [
    "movie_list = pd.merge(left=joint_table,right=df_movies,on='movie_id',how='left')\n",
    "# display(movie_list.head(20))"
   ]
  },
  {
   "cell_type": "code",
   "execution_count": 15,
   "id": "5256aa00",
   "metadata": {},
   "outputs": [],
   "source": [
    "movie_list.dropna(subset=['genres'],inplace = True)"
   ]
  },
  {
   "cell_type": "code",
   "execution_count": 16,
   "id": "985e9f71",
   "metadata": {},
   "outputs": [],
   "source": [
    "movie_list['genres'] = movie_list['genres'].apply(literal_eval)\n",
    "i = input('Which genre do you want to check for: ')\n",
    "def genre_rank(i,x):\n",
    "    # x = literal_eval(x)\n",
    "    for val in x:\n",
    "        if i in val:\n",
    "            flag = (x.index(val))+1\n",
    "            break\n",
    "        else:\n",
    "            flag = 0\n",
    "    return flag\n",
    "\n",
    "movie_list[f'has_{i}'] = movie_list['genres'].apply(lambda x: genre_rank(i,x))\n",
    "# display(movie_list[f'has_{i}'].value_counts())"
   ]
  },
  {
   "cell_type": "code",
   "execution_count": 17,
   "id": "99bf50fb",
   "metadata": {},
   "outputs": [
    {
     "data": {
      "text/html": [
       "<div>\n",
       "<style scoped>\n",
       "    .dataframe tbody tr th:only-of-type {\n",
       "        vertical-align: middle;\n",
       "    }\n",
       "\n",
       "    .dataframe tbody tr th {\n",
       "        vertical-align: top;\n",
       "    }\n",
       "\n",
       "    .dataframe thead th {\n",
       "        text-align: right;\n",
       "    }\n",
       "</style>\n",
       "<table border=\"1\" class=\"dataframe\">\n",
       "  <thead>\n",
       "    <tr style=\"text-align: right;\">\n",
       "      <th></th>\n",
       "      <th>movie_id</th>\n",
       "      <th>popularity_index</th>\n",
       "      <th>genres</th>\n",
       "      <th>movie_title</th>\n",
       "      <th>original_language</th>\n",
       "      <th>year_released</th>\n",
       "      <th>tmdb_link</th>\n",
       "      <th>has_Thriller</th>\n",
       "    </tr>\n",
       "  </thead>\n",
       "  <tbody>\n",
       "    <tr>\n",
       "      <th>0</th>\n",
       "      <td>parasite-2019</td>\n",
       "      <td>59,980.00</td>\n",
       "      <td>[Comedy, Thriller, Drama]</td>\n",
       "      <td>Parasite</td>\n",
       "      <td>ko</td>\n",
       "      <td>2,019.00</td>\n",
       "      <td>https://www.themoviedb.org/movie/496243/</td>\n",
       "      <td>2</td>\n",
       "    </tr>\n",
       "    <tr>\n",
       "      <th>1</th>\n",
       "      <td>spider-man-into-the-spider-verse</td>\n",
       "      <td>47,610.00</td>\n",
       "      <td>[Action, Adventure, Animation, Science Fiction...</td>\n",
       "      <td>Spider-Man: Into the Spider-Verse</td>\n",
       "      <td>en</td>\n",
       "      <td>2,018.00</td>\n",
       "      <td>https://www.themoviedb.org/movie/324857/</td>\n",
       "      <td>0</td>\n",
       "    </tr>\n",
       "    <tr>\n",
       "      <th>2</th>\n",
       "      <td>the-shining</td>\n",
       "      <td>45,882.00</td>\n",
       "      <td>[Horror, Thriller]</td>\n",
       "      <td>The Shining</td>\n",
       "      <td>en</td>\n",
       "      <td>1,980.00</td>\n",
       "      <td>https://www.themoviedb.org/movie/694/</td>\n",
       "      <td>2</td>\n",
       "    </tr>\n",
       "    <tr>\n",
       "      <th>3</th>\n",
       "      <td>the-grand-budapest-hotel</td>\n",
       "      <td>45,792.00</td>\n",
       "      <td>[Comedy, Drama]</td>\n",
       "      <td>The Grand Budapest Hotel</td>\n",
       "      <td>en</td>\n",
       "      <td>2,014.00</td>\n",
       "      <td>https://www.themoviedb.org/movie/120467/</td>\n",
       "      <td>0</td>\n",
       "    </tr>\n",
       "    <tr>\n",
       "      <th>4</th>\n",
       "      <td>the-dark-knight</td>\n",
       "      <td>45,504.00</td>\n",
       "      <td>[Drama, Action, Crime, Thriller]</td>\n",
       "      <td>The Dark Knight</td>\n",
       "      <td>en</td>\n",
       "      <td>2,008.00</td>\n",
       "      <td>https://www.themoviedb.org/movie/155/</td>\n",
       "      <td>4</td>\n",
       "    </tr>\n",
       "  </tbody>\n",
       "</table>\n",
       "</div>"
      ],
      "text/plain": [
       "                           movie_id  popularity_index  \\\n",
       "0                     parasite-2019         59,980.00   \n",
       "1  spider-man-into-the-spider-verse         47,610.00   \n",
       "2                       the-shining         45,882.00   \n",
       "3          the-grand-budapest-hotel         45,792.00   \n",
       "4                   the-dark-knight         45,504.00   \n",
       "\n",
       "                                              genres  \\\n",
       "0                          [Comedy, Thriller, Drama]   \n",
       "1  [Action, Adventure, Animation, Science Fiction...   \n",
       "2                                 [Horror, Thriller]   \n",
       "3                                    [Comedy, Drama]   \n",
       "4                   [Drama, Action, Crime, Thriller]   \n",
       "\n",
       "                         movie_title original_language  year_released  \\\n",
       "0                           Parasite                ko       2,019.00   \n",
       "1  Spider-Man: Into the Spider-Verse                en       2,018.00   \n",
       "2                        The Shining                en       1,980.00   \n",
       "3           The Grand Budapest Hotel                en       2,014.00   \n",
       "4                    The Dark Knight                en       2,008.00   \n",
       "\n",
       "                                  tmdb_link  has_Thriller  \n",
       "0  https://www.themoviedb.org/movie/496243/             2  \n",
       "1  https://www.themoviedb.org/movie/324857/             0  \n",
       "2     https://www.themoviedb.org/movie/694/             2  \n",
       "3  https://www.themoviedb.org/movie/120467/             0  \n",
       "4     https://www.themoviedb.org/movie/155/             4  "
      ]
     },
     "execution_count": 17,
     "metadata": {},
     "output_type": "execute_result"
    }
   ],
   "source": [
    "# movie_list.drop(labels=['rating_val','user_id','popularity','tmdb_id'],axis=1,inplace=True)\n",
    "movie_list.head()"
   ]
  },
  {
   "cell_type": "code",
   "execution_count": 18,
   "id": "a82b1c53",
   "metadata": {},
   "outputs": [],
   "source": [
    "movie_list = movie_list[['movie_id','movie_title','original_language','popularity_index','genres',f'has_{i}',\n",
    "                         'year_released','tmdb_link']]"
   ]
  },
  {
   "cell_type": "code",
   "execution_count": 19,
   "id": "fa8cb30f",
   "metadata": {},
   "outputs": [],
   "source": [
    "movie_list.loc[(movie_list[f'has_{i}'] != 0) & (movie_list['year_released'] > 1999) & \n",
    "               ((movie_list['original_language'] == 'bn'))].sort_values(by=[f'has_{i}','popularity_index'],\n",
    "                                            ascending=[True,False]).to_excel(f'movie_has_{i}_list.xlsx')"
   ]
  }
 ],
 "metadata": {
  "kernelspec": {
   "display_name": "Python 3",
   "language": "python",
   "name": "python3"
  },
  "language_info": {
   "codemirror_mode": {
    "name": "ipython",
    "version": 3
   },
   "file_extension": ".py",
   "mimetype": "text/x-python",
   "name": "python",
   "nbconvert_exporter": "python",
   "pygments_lexer": "ipython3",
   "version": "3.13.3"
  }
 },
 "nbformat": 4,
 "nbformat_minor": 5
}
